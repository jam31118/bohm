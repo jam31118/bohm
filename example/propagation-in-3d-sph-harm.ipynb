{
 "cells": [
  {
   "cell_type": "code",
   "execution_count": 1,
   "metadata": {},
   "outputs": [],
   "source": [
    "%matplotlib inline\n",
    "import matplotlib.pyplot as plt\n",
    "from matplotlib import rcParams\n",
    "rcParams['font.size'] = 15\n",
    "\n",
    "import numpy as np"
   ]
  },
  {
   "cell_type": "markdown",
   "metadata": {},
   "source": [
    "# Configuration"
   ]
  },
  {
   "cell_type": "code",
   "execution_count": 2,
   "metadata": {},
   "outputs": [],
   "source": [
    "N_rho = 128\n",
    "N_l = 3\n",
    "qprop_dim = 44\n",
    "initial_m = None\n",
    "\n",
    "N_p = 10\n",
    "\n",
    "rho_max = 1.5\n",
    "rho_min = rho_max / N_rho\n",
    "rho_p_lim = (0, rho_max)\n",
    "\n",
    "psi_dtype = complex\n",
    "\n",
    "ndim_p = 3\n",
    "\n",
    "num_of_stencils = 2\n",
    "\n",
    "min_delta_t = 0.00005\n",
    "ode_solver_kwargs = {'min_delta_t':min_delta_t}\n",
    "\n",
    "t_0 = 0.0\n",
    "delta_t = 0.05\n",
    "t_max = 5.0\n",
    "\n",
    "# Select ordinary differential equation solver\n",
    "from bohm.rk.tableau import b_table_Bogacki_Shampine\n",
    "b_table = b_table_Bogacki_Shampine"
   ]
  },
  {
   "cell_type": "code",
   "execution_count": 3,
   "metadata": {},
   "outputs": [],
   "source": [
    "N_t = int((t_max - t_0) / delta_t) + 1\n",
    "t_arr = t_0 + np.arange(N_t) * delta_t\n",
    "t_arr\n",
    "\n",
    "delta_t_arr = np.diff(t_arr)\n",
    "N_t_step = delta_t_arr.size"
   ]
  },
  {
   "cell_type": "code",
   "execution_count": 4,
   "metadata": {},
   "outputs": [],
   "source": [
    "from qprop.grid import Grid\n",
    "N_lm = Grid.get_num_of_phi_lm(qprop_dim, N_l)\n",
    "\n",
    "# [NOTE] `lm_arr` is an array-type for 1D list of 2-tuples: (l,m)\n",
    "lm_arr = Grid.get_l_m_array(qprop_dim, N_l, initial_m=initial_m)\n",
    "l_arr, m_arr = lm_arr[:,0], lm_arr[:,1]"
   ]
  },
  {
   "cell_type": "code",
   "execution_count": 5,
   "metadata": {},
   "outputs": [],
   "source": [
    "rho_arr = np.linspace(rho_min, rho_max, N_rho)\n",
    "from tdse.finite_difference import it_seems_increasing_equidistanced_arr\n",
    "assert it_seems_increasing_equidistanced_arr(rho_arr)\n",
    "delta_rho = rho_arr[1] - rho_arr[0]"
   ]
  },
  {
   "cell_type": "markdown",
   "metadata": {},
   "source": [
    "# Sample initial position of each particles $\\mathbf{r_{p}}=(\\rho_{p}, \\theta_{p}, \\phi_{p})$"
   ]
  },
  {
   "cell_type": "code",
   "execution_count": 6,
   "metadata": {},
   "outputs": [],
   "source": [
    "r_p_arr_shape = (N_p, ndim_p)\n",
    "r_p_arr_t0 = np.empty(r_p_arr_shape, dtype=float)\n",
    "\n",
    "r_p_arr_t0[:,0] = np.linspace(rho_min + delta_rho, rho_max - delta_rho, N_p)\n",
    "r_p_arr_t0[:,1] = 0.5 * np.pi\n",
    "r_p_arr_t0[:,2] = 0.0\n",
    "\n",
    "r_p_arr = r_p_arr_t0.copy()\n",
    "rho_p_arr, theta_p_arr, phi_p_arr = r_p_arr[:,0], r_p_arr[:,1], r_p_arr[:,2]"
   ]
  },
  {
   "cell_type": "markdown",
   "metadata": {},
   "source": [
    "# Define function"
   ]
  },
  {
   "cell_type": "code",
   "execution_count": 7,
   "metadata": {},
   "outputs": [
    {
     "name": "stderr",
     "output_type": "stream",
     "text": [
      "Couldn't import `mpi4py` module\n"
     ]
    }
   ],
   "source": [
    "from bohm.velocity import eval_v_p_arr_for_sph_harm_basis"
   ]
  },
  {
   "cell_type": "markdown",
   "metadata": {},
   "source": [
    "## Define and initialize `psi_arr`"
   ]
  },
  {
   "cell_type": "code",
   "execution_count": 8,
   "metadata": {},
   "outputs": [],
   "source": [
    "psi_arr_shape = (N_lm, N_rho)\n",
    "psi_arr = np.zeros(psi_arr_shape, dtype=psi_dtype)\n",
    "\n",
    "from tdse.analytic import hydrogen_phi_nlm\n",
    "\n",
    "def eval_sf(rho_arr, t, psi_arr):\n",
    "    _n, _l, _m = 2, 1, 1\n",
    "    _phase_t = np.exp(-0.5j/_n**2 * t)\n",
    "    psi_arr[3,:] = hydrogen_phi_nlm(rho_arr, n=_n, l=_l, m=_m) * _phase_t\n",
    "    \n",
    "#     _n, _l, _m = 1, 0, 0\n",
    "#     _phase_t = np.exp(-0.5j/_n**2 * t)\n",
    "#     psi_arr[0,:] = hydrogen_phi_nlm(rho_arr, n=_n, l=_l, m=_m) * _phase_t\n",
    "    \n",
    "psi_arr_t0 = psi_arr.copy()\n",
    "eval_sf(rho_arr, t_0, psi_arr_t0)"
   ]
  },
  {
   "cell_type": "code",
   "execution_count": 9,
   "metadata": {},
   "outputs": [],
   "source": [
    "def propagate_sf_analytic(psi_arr, delta_t, rho_arr, t, eval_sf, *psi_args):\n",
    "    '''Propagate the given state function by `delta_t`'''\n",
    "    _eval_sf, _next_time = eval_sf, t + delta_t\n",
    "    _eval_sf(rho_arr, _next_time, psi_arr, *psi_args)\n",
    "    return delta_t\n",
    "\n",
    "\n",
    "\n",
    "def propagate_particle_position(r_p_arr, delta_t, psi_arr,\n",
    "                                rho_arr, err_p_arr, \n",
    "                                num_of_stencils, check_rho_arr, rho_p_lim, b_table, \n",
    "                                psi_args, eval_sf, current_time, lm_arr):\n",
    "    \n",
    "    \"\"\"\n",
    "    \n",
    "    # Function Argument\n",
    "    - `b_table`: of type `Butcher_Tableau`\n",
    "    \"\"\"\n",
    "    \n",
    "    _current_time_0 = current_time\n",
    "    _current_time = _current_time_0\n",
    "    _inner_time = 0.0\n",
    "    \n",
    "    _k_arr_shape = (b_table.N_s,) + r_p_arr.shape\n",
    "    _k_arr = np.empty(_k_arr_shape, dtype=r_p_arr.dtype)\n",
    "    \n",
    "    for _k_idx in range(b_table.N_s):\n",
    "        \n",
    "        # Propagate the state function if needed\n",
    "        _delta_t = delta_t * (b_table.c[_k_idx] - _inner_time)\n",
    "        if (_delta_t > 0):\n",
    "            _current_time += propagate_sf_analytic(psi_arr, _delta_t, rho_arr, _current_time, eval_sf, *psi_args)\n",
    "            _inner_time = b_table.c[_k_idx]\n",
    "\n",
    "        _r_p_shifted_arr = r_p_arr.copy()\n",
    "        for _a_idx in range(_k_idx):\n",
    "            _r_p_shifted_arr += b_table.A[_k_idx,_a_idx] * _k_arr[_a_idx]\n",
    "        _k_arr[_k_idx,:,:] = eval_v_p_arr_for_sph_harm_basis(\n",
    "            _r_p_shifted_arr, \n",
    "            psi_arr, rho_arr, lm_arr,\n",
    "            num_of_stencils, check_rho_arr=check_rho_arr, rho_p_lim=rho_p_lim)\n",
    "    \n",
    "    if _inner_time < 1.0:\n",
    "        _delta_t = delta_t * (1.0 - _inner_time)\n",
    "        _current_time += propagate_sf_analytic(psi_arr, _delta_t, rho_arr, _current_time, eval_sf, *psi_args)\n",
    "        _inner_time = 1.0\n",
    "        \n",
    "    assert np.isclose(_current_time, _current_time_0 + delta_t)\n",
    "\n",
    "    # Evaluate error\n",
    "    err_p_arr[:] = np.einsum(delta_t * (b_table.b - b_table.b_star), [0], _k_arr, [0,1,2])\n",
    "    \n",
    "    # Evaluate position\n",
    "    r_p_arr[:] += np.einsum(delta_t * b_table.b, [0], _k_arr, [0,1,2])\n",
    "        \n",
    "    # Return the propagated time step interval\n",
    "    return delta_t\n",
    "\n",
    "\n",
    "\n",
    "def propagate_one_step(\n",
    "    psi_arr, r_p_arr, v_p_arr, delta_t, rho_arr, err_p_arr, err_thres, \n",
    "    t, eval_sf, psi_args, lm_arr, num_of_stencils, b_table,\n",
    "    check_rho_arr, ode_solver_kwargs, rho_p_lim=None):\n",
    "    \n",
    "    _min_delta_t = ode_solver_kwargs['min_delta_t']\n",
    "    \n",
    "    _eval_sf = eval_sf\n",
    "    _current_time_0 = t\n",
    "    \n",
    "    psi_arr_t_0 = psi_arr.copy()\n",
    "    r_p_arr_t_0 = r_p_arr.copy()\n",
    "    \n",
    "    _current_time = _current_time_0\n",
    "    _reduce_step_size = False\n",
    "    _delta_t = delta_t\n",
    "    _num_of_sub_step = 1\n",
    "    \n",
    "    while True:\n",
    "        for _sub_step_index in range(_num_of_sub_step):\n",
    "\n",
    "            _current_time += propagate_particle_position(\n",
    "                r_p_arr, _delta_t, psi_arr, rho_arr, err_p_arr, num_of_stencils, \n",
    "                check_rho_arr, rho_p_lim, b_table, psi_args, eval_sf, _current_time, lm_arr\n",
    "            )\n",
    "            \n",
    "            if np.any(np.abs(err_p_arr) >= err_thres):\n",
    "                _reduce_step_size = True\n",
    "                \n",
    "                psi_arr[:] = psi_arr_t_0\n",
    "                r_p_arr[:] = r_p_arr_t_0\n",
    "                \n",
    "                _delta_t *= 0.5\n",
    "                _num_of_sub_step *= 2\n",
    "                _current_time = _current_time_0\n",
    "                \n",
    "                print(\"making it half to {} with num_of_sub_step: {}\".format(_delta_t, _num_of_sub_step))\n",
    "                if _delta_t < _min_delta_t: \n",
    "                    raise ValueError(\"'delta_t'(={}) is smaller then 'min_delta_t' (={})\".format(_delta_t, _min_delta_t))\n",
    "                break\n",
    "            \n",
    "        if _reduce_step_size:\n",
    "            _reduce_step_size = False\n",
    "            continue\n",
    "        \n",
    "        assert np.all(np.abs(err_p_arr) < err_thres)\n",
    "        \n",
    "        break    \n",
    "    \n",
    "    # Update velocity\n",
    "    v_p_arr[:] = eval_v_p_arr_for_sph_harm_basis(r_p_arr, psi_arr, rho_arr, lm_arr, num_of_stencils, check_rho_arr=check_rho_arr, rho_p_lim=rho_p_lim)\n",
    "    \n",
    "    return delta_t"
   ]
  },
  {
   "cell_type": "code",
   "execution_count": 10,
   "metadata": {},
   "outputs": [],
   "source": [
    "err_p_arr = np.empty_like(r_p_arr, dtype=float)\n",
    "v_p_arr = np.empty_like(r_p_arr, dtype=float)\n",
    "err_thres = np.array([0.1, 0.2, 0.2])\n",
    "\n",
    "def init_data():\n",
    "    global t, r_p_arr, err_p_arr, psi_arr, psi_arr_t0\n",
    "    \n",
    "    t = t_0\n",
    "    \n",
    "    psi_arr[:] = psi_arr_t0\n",
    "    \n",
    "    psi_arr[:] = eval_sf(rho_arr, t, psi_arr)\n",
    "    r_p_arr[:] = r_p_arr_t0\n",
    "    err_p_arr[:] = np.empty_like(r_p_arr, dtype=float)"
   ]
  },
  {
   "cell_type": "code",
   "execution_count": 11,
   "metadata": {},
   "outputs": [],
   "source": [
    "from tdse.coordinate import move_to_canonical_range_spherical_coord_arr"
   ]
  },
  {
   "cell_type": "code",
   "execution_count": 12,
   "metadata": {},
   "outputs": [],
   "source": [
    "init_data()\n",
    "\n",
    "psi_arr[:] = psi_arr_t0\n",
    "\n",
    "r_p_arr_t = np.empty((N_t,) + r_p_arr.shape, dtype=r_p_arr.dtype)\n",
    "\n",
    "r_p_arr_t[0,:] = r_p_arr"
   ]
  },
  {
   "cell_type": "code",
   "execution_count": 13,
   "metadata": {},
   "outputs": [],
   "source": [
    "for t_index, delta_t in zip(range(1,N_t),delta_t_arr):\n",
    "\n",
    "    t += propagate_one_step(\n",
    "        psi_arr, r_p_arr, v_p_arr, delta_t, rho_arr, err_p_arr, err_thres, \n",
    "        t, eval_sf, (), lm_arr, num_of_stencils,  b_table,\n",
    "        check_rho_arr=True, ode_solver_kwargs=ode_solver_kwargs, rho_p_lim=rho_p_lim)\n",
    "\n",
    "    move_to_canonical_range_spherical_coord_arr(*r_p_arr.transpose())\n",
    "    \n",
    "    # Store to data arrays\n",
    "    r_p_arr_t[t_index,:] = r_p_arr"
   ]
  },
  {
   "cell_type": "markdown",
   "metadata": {},
   "source": [
    "# Generate Analytic Solutions if possible"
   ]
  },
  {
   "cell_type": "code",
   "execution_count": 14,
   "metadata": {},
   "outputs": [],
   "source": [
    "r_p_t_analytic_arr_shape = (N_t,) + r_p_arr_t0.shape\n",
    "r_p_t_analytic_arr = np.empty(r_p_t_analytic_arr_shape, dtype=r_p_arr_t0.dtype)\n",
    "for _t_idx, _t in enumerate(t_arr):\n",
    "    r_p_t_analytic_arr[_t_idx,:,0:2] = r_p_arr_t0[:,0:2]\n",
    "    r_p_t_analytic_arr[_t_idx,:,2] = r_p_arr_t0[:,2] + (_t - t_0) / r_p_arr_t0[:,0]"
   ]
  },
  {
   "cell_type": "markdown",
   "metadata": {},
   "source": [
    "# Plot"
   ]
  },
  {
   "cell_type": "code",
   "execution_count": 15,
   "metadata": {},
   "outputs": [],
   "source": [
    "from vis.layout import get_text_position_and_inner_alignment\n",
    "\n",
    "from nunit.au import au2fs"
   ]
  },
  {
   "cell_type": "code",
   "execution_count": 16,
   "metadata": {},
   "outputs": [],
   "source": [
    "from tdse.coordinate import spherical_to_cartesian"
   ]
  },
  {
   "cell_type": "code",
   "execution_count": 17,
   "metadata": {},
   "outputs": [
    {
     "data": {
      "image/png": "[encoded data removed]",
      "text/plain": [
       "<Figure size 720x720 with 1 Axes>"
      ]
     },
     "metadata": {},
     "output_type": "display_data"
    }
   ],
   "source": [
    "fig, ax = plt.subplots(figsize=(10,10))\n",
    "\n",
    "for p_index in range(N_p):\n",
    "    \n",
    "    _rho_p_t, _theta_p_t, _phi_p_t = (r_p_arr_t[:,p_index,i] for i in range(3))\n",
    "    _x_p_t, _y_p_t, _z_p_t = spherical_to_cartesian(_rho_p_t, _theta_p_t, _phi_p_t)\n",
    "\n",
    "    _rho_p_t_ana, _theta_p_t_ana, _phi_p_t_ana = (r_p_t_analytic_arr[:,p_index,i] for i in range(3))\n",
    "    _x_p_t_ana, _y_p_t_ana, _z_p_t_ana = spherical_to_cartesian(_rho_p_t_ana, _theta_p_t_ana, _phi_p_t_ana)\n",
    "    \n",
    "    assert np.all(np.isclose(_z_p_t,0))\n",
    "    assert np.all(np.isclose(_z_p_t_ana,0))\n",
    "    \n",
    "    line_p_analytic, = ax.plot(_x_p_t_ana, _y_p_t_ana, 'x', color='k')\n",
    "    line_p_numeric, = ax.plot(_x_p_t, _y_p_t, '.')\n",
    "    \n",
    "    \n",
    "ax.axis('square')\n",
    "\n",
    "ax.set_xlabel(\"x / a.u.\")\n",
    "ax.set_ylabel(\"y / a.u.\")\n",
    "\n",
    "_r_max = np.max(r_p_arr_t[:,:,0]) * 1.1\n",
    "ax.set_xlim(-_r_max, _r_max)\n",
    "ax.set_ylim(-_r_max, _r_max)\n",
    "\n",
    "\n",
    "# Add time text box\n",
    "text_xy, text_kwargs = get_text_position_and_inner_alignment(ax, 'sw')\n",
    "\n",
    "time_text_format = \"t = {:.3f} fs\"\n",
    "time_fs = t * au2fs\n",
    "\n",
    "time_text = ax.text(*text_xy, time_text_format.format(time_fs), **text_kwargs)\n",
    "\n",
    "\n",
    "# Figure tight layout\n",
    "fig.tight_layout()"
   ]
  },
  {
   "cell_type": "code",
   "execution_count": 18,
   "metadata": {},
   "outputs": [
    {
     "name": "stdout",
     "output_type": "stream",
     "text": [
      "test-prop-on-xy-plane-t_fs-0.121-r_max-1.64-N_p-10-max_delta_t_au-0.050-compare-analytic-Bogacki-Shampine.png\n"
     ]
    }
   ],
   "source": [
    "solver_name = \"Bogacki-Shampine\"\n",
    "\n",
    "fig_file_name = \"test-prop-on-xy-plane-t_fs-{:.3f}-r_max-{:.2f}-N_p-{}-max_delta_t_au-{:.3f}-compare-analytic-{}.png\".format(time_fs, _r_max, N_p, delta_t, solver_name)\n",
    "print(fig_file_name)\n",
    "\n",
    "# \"need-to-fix-different-\"\n",
    "# fig.savefig(fig_file_name)"
   ]
  }
 ],
 "metadata": {
  "kernelspec": {
   "display_name": "Python 3",
   "language": "python",
   "name": "python3"
  },
  "language_info": {
   "codemirror_mode": {
    "name": "ipython",
    "version": 3
   },
   "file_extension": ".py",
   "mimetype": "text/x-python",
   "name": "python",
   "nbconvert_exporter": "python",
   "pygments_lexer": "ipython3",
   "version": "3.6.0"
  }
 },
 "nbformat": 4,
 "nbformat_minor": 2
}
